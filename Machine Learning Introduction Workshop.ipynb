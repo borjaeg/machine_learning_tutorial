{
 "cells": [
  {
   "cell_type": "markdown",
   "metadata": {},
   "source": [
    "# Machine Learning Introduction Workshop"
   ]
  },
  {
   "cell_type": "markdown",
   "metadata": {},
   "source": [
    "## Installation Instructions\n",
    "1. conda create --name kampal python=3\n",
    "2. source activate kampal\n",
    "3. conda install notebook\n",
    "4. conda install scikit-learn\n",
    "5. conda install seaborn\n",
    "6. pip install beautifulsoup4\n",
    "7. mkdir data"
   ]
  },
  {
   "cell_type": "markdown",
   "metadata": {},
   "source": [
    "## Loading Email Data"
   ]
  },
  {
   "cell_type": "code",
   "execution_count": 58,
   "metadata": {
    "collapsed": false
   },
   "outputs": [
    {
     "name": "stdout",
     "output_type": "stream",
     "text": [
      "  % Total    % Received % Xferd  Average Speed   Time    Time     Time  Current\n",
      "                                 Dload  Upload   Total   Spent    Left  Speed\n",
      "100 1174k  100 1174k    0     0   494k      0  0:00:02  0:00:02 --:--:--  541k\n",
      "  % Total    % Received % Xferd  Average Speed   Time    Time     Time  Current\n",
      "                                 Dload  Upload   Total   Spent    Left  Speed\n",
      "100 1522k  100 1522k    0     0   576k      0  0:00:02  0:00:02 --:--:--  604k\n",
      "  % Total    % Received % Xferd  Average Speed   Time    Time     Time  Current\n",
      "                                 Dload  Upload   Total   Spent    Left  Speed\n",
      "100 2647k  100 2647k    0     0   461k      0  0:00:05  0:00:05 --:--:--  553k\n",
      "  % Total    % Received % Xferd  Average Speed   Time    Time     Time  Current\n",
      "                                 Dload  Upload   Total   Spent    Left  Speed\n",
      "100 5185k  100 5185k    0     0   346k      0  0:00:14  0:00:14 --:--:--  440k\n",
      "  % Total    % Received % Xferd  Average Speed   Time    Time     Time  Current\n",
      "                                 Dload  Upload   Total   Spent    Left  Speed\n",
      "100 1775k  100 1775k    0     0   305k      0  0:00:05  0:00:05 --:--:--  356k\n",
      "  % Total    % Received % Xferd  Average Speed   Time    Time     Time  Current\n",
      "                                 Dload  Upload   Total   Spent    Left  Speed\n",
      "100  841k  100  841k    0     0   255k      0  0:00:03  0:00:03 --:--:--  265k\n",
      "  % Total    % Received % Xferd  Average Speed   Time    Time     Time  Current\n",
      "                                 Dload  Upload   Total   Spent    Left  Speed\n",
      "100 1156k  100 1156k    0     0   496k      0  0:00:02  0:00:02 --:--:--  515k\n",
      "  % Total    % Received % Xferd  Average Speed   Time    Time     Time  Current\n",
      "                                 Dload  Upload   Total   Spent    Left  Speed\n",
      "100 1637k  100 1637k    0     0   362k      0  0:00:04  0:00:04 --:--:--  381k\n",
      "  % Total    % Received % Xferd  Average Speed   Time    Time     Time  Current\n",
      "                                 Dload  Upload   Total   Spent    Left  Speed\n",
      "100  997k  100  997k    0     0   465k      0  0:00:02  0:00:02 --:--:--  484k\n",
      "  % Total    % Received % Xferd  Average Speed   Time    Time     Time  Current\n",
      "                                 Dload  Upload   Total   Spent    Left  Speed\n",
      "100 11.6M  100 11.6M    0     0   403k      0  0:00:29  0:00:29 --:--:--  627k\n",
      "  % Total    % Received % Xferd  Average Speed   Time    Time     Time  Current\n",
      "                                 Dload  Upload   Total   Spent    Left  Speed\n",
      "100 16.3M  100 16.3M    0     0   456k      0  0:00:36  0:00:36 --:--:--  501k\n",
      "  % Total    % Received % Xferd  Average Speed   Time    Time     Time  Current\n",
      "                                 Dload  Upload   Total   Spent    Left  Speed\n",
      "100 12.0M  100 12.0M    0     0   399k      0  0:00:30  0:00:30 --:--:--  613k\n"
     ]
    }
   ],
   "source": [
    "!curl 'http://www.aueb.gr/users/ion/data/enron-spam/raw/ham/beck-s.tar.gz' > data/beck-s.tar.gz\n",
    "!curl 'http://www.aueb.gr/users/ion/data/enron-spam/raw/ham/farmer-d.tar.gz' > data/farmer-d.tar.gz\n",
    "!curl 'http://www.aueb.gr/users/ion/data/enron-spam/raw/ham/kaminski-v.tar.gz' > data/kaminski-v.tar.gz\n",
    "!curl 'http://www.aueb.gr/users/ion/data/enron-spam/raw/ham/kitchen-l.tar.gz' > data/kitchen-l.tar.gz\n",
    "!curl 'http://www.aueb.gr/users/ion/data/enron-spam/raw/ham/lokay-m.tar.gz' > data/lokay-m.tar.gz\n",
    "!curl 'http://www.aueb.gr/users/ion/data/enron-spam/raw/ham/williams-w3.tar.gz' > data/williams-w3.tar.gz\n",
    "!curl 'https://spamassassin.apache.org/publiccorpus/20030228_spam.tar.bz2' > data/20030228_spam.tar.bz2\n",
    "!curl 'https://spamassassin.apache.org/publiccorpus/20021010_easy_ham.tar.bz2' > data/20021010_easy_ham.tar.bz2\n",
    "!curl 'https://spamassassin.apache.org/publiccorpus/20021010_hard_ham.tar.bz2' > data/20021010_hard_ham.tar.bz2\n",
    "!curl 'http://www.aueb.gr/users/ion/data/enron-spam/raw/spam/BG.tar.gz' > data/BG.tar.gz\n",
    "!curl 'http://www.aueb.gr/users/ion/data/enron-spam/raw/spam/GP.tar.gz' > data/GP.tar.gz\n",
    "!curl 'http://www.aueb.gr/users/ion/data/enron-spam/raw/spam/SH.tar.gz' > data/SH.tar.gz\n"
   ]
  },
  {
   "cell_type": "code",
   "execution_count": 74,
   "metadata": {
    "collapsed": false
   },
   "outputs": [],
   "source": [
    "!tar -zxf data/beck-s.tar.gz -C data\n",
    "!tar -zxf data/BG.tar.gz -C data\n",
    "!tar -zxf data/GP.tar.gz -C data\n",
    "!tar -zxf data/SH.tar.gz -C data\n",
    "!tar -zxf data/farmer-d.tar.gz -C data\n",
    "!tar -zxf data/kaminski-v.tar.gz -C data\n",
    "!tar -zxf data/kitchen-l.tar.gz -C data\n",
    "!tar -zxf data/lokay-m.tar.gz -C data\n",
    "!tar -zxf data/williams-w3.tar.gz -C data\n",
    "!tar xfj data/20030228_spam.tar.bz2 -C data\n",
    "!tar xfj data/20021010_easy_ham.tar.bz2 -C data\n",
    "!tar xfj data/20021010_hard_ham.tar.bz2 -C data"
   ]
  },
  {
   "cell_type": "code",
   "execution_count": 29,
   "metadata": {
    "collapsed": true
   },
   "outputs": [],
   "source": [
    "%matplotlib inline\n",
    "import numpy as np\n",
    "import time\n",
    "import matplotlib.pyplot as plt\n",
    "import nltk\n",
    "import auxiliar_source"
   ]
  },
  {
   "cell_type": "code",
   "execution_count": 2,
   "metadata": {
    "collapsed": true
   },
   "outputs": [],
   "source": [
    "data = auxiliar_source.load_data()"
   ]
  },
  {
   "cell_type": "code",
   "execution_count": 3,
   "metadata": {
    "collapsed": false,
    "scrolled": true
   },
   "outputs": [
    {
     "data": {
      "text/html": [
       "<div>\n",
       "<table border=\"1\" class=\"dataframe\">\n",
       "  <thead>\n",
       "    <tr style=\"text-align: right;\">\n",
       "      <th></th>\n",
       "      <th>class</th>\n",
       "      <th>text</th>\n",
       "    </tr>\n",
       "  </thead>\n",
       "  <tbody>\n",
       "    <tr>\n",
       "      <th>data/easy_ham/1266.52a2bf88987e97b6f4d5a743e353d50a</th>\n",
       "      <td>ham</td>\n",
       "      <td>In message &lt;200210091843.OAA01268@hippolyta.cr...</td>\n",
       "    </tr>\n",
       "    <tr>\n",
       "      <th>data/BG/2004/08/1093472752.17176_361.txt</th>\n",
       "      <td>spam</td>\n",
       "      <td>This is a multi-part message in MIME format.\\n...</td>\n",
       "    </tr>\n",
       "    <tr>\n",
       "      <th>data/GP/part9/msg13242.eml</th>\n",
       "      <td>spam</td>\n",
       "      <td>&lt;html&gt;\\n\\nBuy your drug of choice, &lt;b&gt;NO&lt;/b&gt; p...</td>\n",
       "    </tr>\n",
       "    <tr>\n",
       "      <th>data/GP/part1/msg1070.eml</th>\n",
       "      <td>spam</td>\n",
       "      <td>Discount RX is simple,quick,and affordable!&lt;br...</td>\n",
       "    </tr>\n",
       "    <tr>\n",
       "      <th>data/GP/part12/msg4347.eml</th>\n",
       "      <td>spam</td>\n",
       "      <td>\\n\\n\\n\\n&lt;/HEAD&gt;&lt;title&gt;beaver,by that time&lt;/tit...</td>\n",
       "    </tr>\n",
       "  </tbody>\n",
       "</table>\n",
       "</div>"
      ],
      "text/plain": [
       "                                                   class  \\\n",
       "data/easy_ham/1266.52a2bf88987e97b6f4d5a743e353...   ham   \n",
       "data/BG/2004/08/1093472752.17176_361.txt            spam   \n",
       "data/GP/part9/msg13242.eml                          spam   \n",
       "data/GP/part1/msg1070.eml                           spam   \n",
       "data/GP/part12/msg4347.eml                          spam   \n",
       "\n",
       "                                                                                                 text  \n",
       "data/easy_ham/1266.52a2bf88987e97b6f4d5a743e353...  In message <200210091843.OAA01268@hippolyta.cr...  \n",
       "data/BG/2004/08/1093472752.17176_361.txt            This is a multi-part message in MIME format.\\n...  \n",
       "data/GP/part9/msg13242.eml                          <html>\\n\\nBuy your drug of choice, <b>NO</b> p...  \n",
       "data/GP/part1/msg1070.eml                           Discount RX is simple,quick,and affordable!<br...  \n",
       "data/GP/part12/msg4347.eml                          \\n\\n\\n\\n</HEAD><title>beaver,by that time</tit...  "
      ]
     },
     "execution_count": 3,
     "metadata": {},
     "output_type": "execute_result"
    }
   ],
   "source": [
    "data.head()"
   ]
  },
  {
   "cell_type": "markdown",
   "metadata": {},
   "source": [
    "# Feature Engineering\n",
    "## Extracción de features\n",
    "\n",
    "Antes de entrenar el algoritmo para clasificar los documentos es necesario extraer las features."
   ]
  },
  {
   "cell_type": "code",
   "execution_count": 45,
   "metadata": {
    "collapsed": true
   },
   "outputs": [],
   "source": [
    "from sklearn.feature_extraction.text import CountVectorizer\n",
    "from sklearn.feature_extraction.text import TfidfTransformer"
   ]
  },
  {
   "cell_type": "code",
   "execution_count": 4,
   "metadata": {
    "collapsed": false
   },
   "outputs": [
    {
     "name": "stdout",
     "output_type": "stream",
     "text": [
      "Extraction time: 32.2184 seconds\n"
     ]
    }
   ],
   "source": [
    "count_vectorizer = CountVectorizer()\n",
    "start_time = time.time()\n",
    "counts = count_vectorizer.fit_transform(data['text'].values)\n",
    "feature_extraction_time = time.time() - start_time\n",
    "print(\"Extraction time: %.4f seconds\" % feature_extraction_time)"
   ]
  },
  {
   "cell_type": "markdown",
   "metadata": {},
   "source": [
    "## Visualizando las features"
   ]
  },
  {
   "cell_type": "code",
   "execution_count": 6,
   "metadata": {
    "collapsed": false
   },
   "outputs": [
    {
     "name": "stdout",
     "output_type": "stream",
     "text": [
      "('hsyhttgpsh6hzpkq4nb9g', 321452)\n",
      "('emsueqmjv2sscqm', 255238)\n",
      "('kyj3g', 384300)\n",
      "('xgx2zcmu4rmitsjw796', 638774)\n",
      "('clearification', 200614)\n",
      "('antrum', 147114)\n",
      "('eqsxwyz0gq7a5k9bqxq0w5ygzkcayw9jgylpk6tautgbmyy0e7rz5i9ygyygurvxfjbvqykd47vw', 258909)\n",
      "('cqklvvtosl4gnzplmqhfo6hfs96struq0kbz', 210012)\n",
      "('ejobdmyracimcqckn6dyddnws9cg6oj9djdjkgcipbe7hbwcc3kqrxca4uzfnhgxouhr4c0eew', 252358)\n",
      "('8gvg', 104641)\n",
      "('kz39u7ejozmy8z', 384695)\n",
      "('pzs63im65z47ovswgc3bh', 492058)\n",
      "('g2yp', 287217)\n",
      "('garantis', 289386)\n",
      "('2cmade', 39007)\n",
      "('0255', 2341)\n",
      "('kkawvcz447irvvrrqv0ogn8', 374226)\n",
      "('lzzzz', 404582)\n",
      "('nsh1dradeiakuyy3', 443150)\n",
      "('rescriptions', 515073)\n"
     ]
    }
   ],
   "source": [
    "# Print Vocabulary\n",
    "max_print = 20\n",
    "for index, vocabulary in enumerate(count_vectorizer.vocabulary_.items()):\n",
    "    if index < max_print:\n",
    "        print(vocabulary)"
   ]
  },
  {
   "cell_type": "code",
   "execution_count": 5,
   "metadata": {
    "collapsed": false
   },
   "outputs": [
    {
     "name": "stdout",
     "output_type": "stream",
     "text": [
      "Viagra 605071\n",
      "Linux 394452\n"
     ]
    }
   ],
   "source": [
    "print(\"Viagra\", count_vectorizer.vocabulary_[\"viagra\"])\n",
    "print(\"Linux\", count_vectorizer.vocabulary_[\"linux\"])"
   ]
  },
  {
   "cell_type": "code",
   "execution_count": 8,
   "metadata": {
    "collapsed": false
   },
   "outputs": [
    {
     "data": {
      "text/html": [
       "<div>\n",
       "<table border=\"1\" class=\"dataframe\">\n",
       "  <thead>\n",
       "    <tr style=\"text-align: right;\">\n",
       "      <th></th>\n",
       "      <th>class</th>\n",
       "      <th>text</th>\n",
       "    </tr>\n",
       "  </thead>\n",
       "  <tbody>\n",
       "    <tr>\n",
       "      <th>data/BG/2004/08/1093472752.17176_361.txt</th>\n",
       "      <td>spam</td>\n",
       "      <td>This is a multi-part message in MIME format.\\n...</td>\n",
       "    </tr>\n",
       "    <tr>\n",
       "      <th>data/GP/part9/msg13242.eml</th>\n",
       "      <td>spam</td>\n",
       "      <td>&lt;html&gt;\\n\\nBuy your drug of choice, &lt;b&gt;NO&lt;/b&gt; p...</td>\n",
       "    </tr>\n",
       "    <tr>\n",
       "      <th>data/GP/part1/msg1070.eml</th>\n",
       "      <td>spam</td>\n",
       "      <td>Discount RX is simple,quick,and affordable!&lt;br...</td>\n",
       "    </tr>\n",
       "    <tr>\n",
       "      <th>data/GP/part12/msg4347.eml</th>\n",
       "      <td>spam</td>\n",
       "      <td>\\n\\n\\n\\n&lt;/HEAD&gt;&lt;title&gt;beaver,by that time&lt;/tit...</td>\n",
       "    </tr>\n",
       "    <tr>\n",
       "      <th>data/GP/part12/msg4362.eml</th>\n",
       "      <td>spam</td>\n",
       "      <td>&lt;!DOCTYPE HTML PUBLIC \"-//W3C//DTD HTML 3.2//E...</td>\n",
       "    </tr>\n",
       "  </tbody>\n",
       "</table>\n",
       "</div>"
      ],
      "text/plain": [
       "                                         class  \\\n",
       "data/BG/2004/08/1093472752.17176_361.txt  spam   \n",
       "data/GP/part9/msg13242.eml                spam   \n",
       "data/GP/part1/msg1070.eml                 spam   \n",
       "data/GP/part12/msg4347.eml                spam   \n",
       "data/GP/part12/msg4362.eml                spam   \n",
       "\n",
       "                                                                                       text  \n",
       "data/BG/2004/08/1093472752.17176_361.txt  This is a multi-part message in MIME format.\\n...  \n",
       "data/GP/part9/msg13242.eml                <html>\\n\\nBuy your drug of choice, <b>NO</b> p...  \n",
       "data/GP/part1/msg1070.eml                 Discount RX is simple,quick,and affordable!<br...  \n",
       "data/GP/part12/msg4347.eml                \\n\\n\\n\\n</HEAD><title>beaver,by that time</tit...  \n",
       "data/GP/part12/msg4362.eml                <!DOCTYPE HTML PUBLIC \"-//W3C//DTD HTML 3.2//E...  "
      ]
     },
     "execution_count": 8,
     "metadata": {},
     "output_type": "execute_result"
    }
   ],
   "source": [
    "spams = data[data[\"class\"] == \"spam\"]\n",
    "spams.head()"
   ]
  },
  {
   "cell_type": "code",
   "execution_count": 23,
   "metadata": {
    "collapsed": true
   },
   "outputs": [],
   "source": [
    "from nltk.tokenize import word_tokenize\n",
    "from nltk.corpus import stopwords\n",
    "import re"
   ]
  },
  {
   "cell_type": "code",
   "execution_count": 24,
   "metadata": {
    "collapsed": false
   },
   "outputs": [
    {
     "data": {
      "image/png": "[encoded data removed]",
      "text/plain": [
       "<matplotlib.figure.Figure at 0x11bb65b70>"
      ]
     },
     "metadata": {},
     "output_type": "display_data"
    }
   ],
   "source": [
    "stopwords = stopwords.words('english')\n",
    "spam = spams.as_matrix([\"text\"])[:1000]\n",
    "spam_tokens = [token for sentence in spam\n",
    "             for token in word_tokenize(re.sub('<[^<]+?>', '', sentence[0])) if token not in stopwords]\n",
    "\n",
    "plt.figure(figsize=(12,6))\n",
    "fdist = nltk.FreqDist(spam_tokens)\n",
    "fdist.plot(50)"
   ]
  },
  {
   "cell_type": "code",
   "execution_count": 26,
   "metadata": {
    "collapsed": false
   },
   "outputs": [
    {
     "data": {
      "text/html": [
       "<div>\n",
       "<table border=\"1\" class=\"dataframe\">\n",
       "  <thead>\n",
       "    <tr style=\"text-align: right;\">\n",
       "      <th></th>\n",
       "      <th>class</th>\n",
       "      <th>text</th>\n",
       "    </tr>\n",
       "  </thead>\n",
       "  <tbody>\n",
       "    <tr>\n",
       "      <th>data/easy_ham/1266.52a2bf88987e97b6f4d5a743e353d50a</th>\n",
       "      <td>ham</td>\n",
       "      <td>In message &lt;200210091843.OAA01268@hippolyta.cr...</td>\n",
       "    </tr>\n",
       "    <tr>\n",
       "      <th>data/hard_ham/0211.bd3cf04241bf141dff4739b94b29f61c</th>\n",
       "      <td>ham</td>\n",
       "      <td>The following domains that are registered as b...</td>\n",
       "    </tr>\n",
       "    <tr>\n",
       "      <th>data/farmer-d/contracts/18</th>\n",
       "      <td>ham</td>\n",
       "      <td>REMINDER:\\n\\n\\n\\n\\n\\nRecords on the August 200...</td>\n",
       "    </tr>\n",
       "    <tr>\n",
       "      <th>data/kaminski-v/c_mangmt_group_management/64</th>\n",
       "      <td>ham</td>\n",
       "      <td>Anne,\\n\\n\\n\\nThanks. Shirley is checking my ca...</td>\n",
       "    </tr>\n",
       "    <tr>\n",
       "      <th>data/farmer-d/cleburne_plant____cornhusker_/58</th>\n",
       "      <td>ham</td>\n",
       "      <td>We need to change the demand fees for Tenaska ...</td>\n",
       "    </tr>\n",
       "  </tbody>\n",
       "</table>\n",
       "</div>"
      ],
      "text/plain": [
       "                                                   class  \\\n",
       "data/easy_ham/1266.52a2bf88987e97b6f4d5a743e353...   ham   \n",
       "data/hard_ham/0211.bd3cf04241bf141dff4739b94b29...   ham   \n",
       "data/farmer-d/contracts/18                           ham   \n",
       "data/kaminski-v/c_mangmt_group_management/64         ham   \n",
       "data/farmer-d/cleburne_plant____cornhusker_/58       ham   \n",
       "\n",
       "                                                                                                 text  \n",
       "data/easy_ham/1266.52a2bf88987e97b6f4d5a743e353...  In message <200210091843.OAA01268@hippolyta.cr...  \n",
       "data/hard_ham/0211.bd3cf04241bf141dff4739b94b29...  The following domains that are registered as b...  \n",
       "data/farmer-d/contracts/18                          REMINDER:\\n\\n\\n\\n\\n\\nRecords on the August 200...  \n",
       "data/kaminski-v/c_mangmt_group_management/64        Anne,\\n\\n\\n\\nThanks. Shirley is checking my ca...  \n",
       "data/farmer-d/cleburne_plant____cornhusker_/58      We need to change the demand fees for Tenaska ...  "
      ]
     },
     "execution_count": 26,
     "metadata": {},
     "output_type": "execute_result"
    }
   ],
   "source": [
    "hams = data[data[\"class\"] == \"ham\"]\n",
    "hams.head()"
   ]
  },
  {
   "cell_type": "code",
   "execution_count": 25,
   "metadata": {
    "collapsed": false
   },
   "outputs": [
    {
     "data": {
      "image/png": "[encoded data removed]",
      "text/plain": [
       "<matplotlib.figure.Figure at 0x126e32be0>"
      ]
     },
     "metadata": {},
     "output_type": "display_data"
    }
   ],
   "source": [
    "ham = hams.as_matrix([\"text\"])[:1000]\n",
    "ham_tokens = [token for sentence in ham\n",
    "             for token in word_tokenize(re.sub('<[^<]+?>', '', sentence[0])) if token not in stopwords]\n",
    "\n",
    "plt.figure(figsize=(12,6))\n",
    "fdist = nltk.FreqDist(ham_tokens)\n",
    "fdist.plot(50)"
   ]
  },
  {
   "cell_type": "markdown",
   "metadata": {},
   "source": [
    "## Clasificación"
   ]
  },
  {
   "cell_type": "markdown",
   "metadata": {},
   "source": [
    "### Naïve Bayes\n",
    "\n",
    "El clasificador de Naïve Bayes (NB) está basado en el famoso teorema de probabilidad de Bayes. NB es probablemente uno de los algoritmos de aprendizaje automático que se usa más a menudo. Este algoritmo se usa sobre todo en los campos de clasificación de texto y la detección de enfermedades o bioestadística. El algoritmo NB es lineal y es conocido por ser muy eficiente. El adjetivo *naïve* viene de la asunción de que las features son **mutuamente independientes**. Un ejemplo de este comportamiendo es el lanzamiento de una moneda. Aunque las palabras de un texto no suelen cumplir esta asunción el algoritmo suele obtener buenos resultados.\n",
    "\n",
    "Grandes violaciones en la asunción de independencia de las features o la clasificación de problemas no liniales pueden llevar a un pobre comportamiento del algoritmo. En la práctica siempre se recomienda probar diferentes algoritmos con un mismo dataset para observar posibles problemas. Por otra parte, NB suele detectar correctamente features poco relevantes asignándoles poco peso. Por último, la estructura del modelo no exige una gran cantidad de memoria.\n",
    "\n",
    "El modelo de probabilidad está formulado de la siguiente manera:\n",
    "\n",
    "$$\\text{Posterior probability} = \\cfrac{\\text{Conditional Probability X Prior Probability}}{\\text{Evidence}}$$"
   ]
  },
  {
   "cell_type": "markdown",
   "metadata": {},
   "source": [
    "### Árboles de decisión\n",
    "\n",
    "Los árboles de decisión son un metodo de aprendizaje no paramétrico usado tanto para clasificación como para regresión. El proceso de construcción de un árbol está basado en los conceptos de **ganancia de información y entropía de la información**. Un árbol de decisión es un grafo que describe un modelo de decisión y sus posibles consecuencias. Cada nodo representa un decisión hasta llegar finalmente a las hojas que determinan el resultado de la clasificación.\n",
    "\n",
    "Una vez que el árbol de decisión se ha creado, se puede realizar una poda. La poda es el proceso por el cual se eliminan nodos que puedan causar ruido a la hora de tomar una decisión. Este proceso se puede comparar con la regularización del SVM o la regresión logística. De esta manera evitamos el *overfitting*\n",
    "\n",
    "Los árboles de decisión son rápidos tanto en el entrenamiento como en la clasificación, pero son muy sensibles a pequeños cambios en los datos y suelen causar *overfitting*.\n",
    "\n",
    "#### Maximizar la ganancia de información\n",
    "Como en cualquier algoritmo de aprendizaje automático, los árboles de decisión necesitan una función objetivo que optimizar. En este caso es la ganancia de información en cada división del árbol. La impuridad del nodo es una métrica de homogeneidad de las clases dentro de un nodo. Los criterios más utilizados en los problemas de clasificación son:\n",
    "1. Gini index\n",
    "2. Entropía\n",
    "3. Error de clasificación\n",
    "\n",
    "En los problemas de regresión se utiliza la varianza como médida de impuridad.\n",
    "\n",
    "#### Regla de parada\n",
    "La construcción de recursiva puede parar según distintos criterios:\n",
    "1. Se alcanza una determinada profundidad del árbol\n",
    "2. Ninguna división obtiene una ganancia suficiente de información\n",
    "3. Ninguna división deja un nodo con suficientes clases de un tipo\n",
    "4. Las clases son independientes de las features (test chi^2)"
   ]
  },
  {
   "cell_type": "markdown",
   "metadata": {},
   "source": [
    "### Bagging\n",
    "\"Bootstrap aggregating\", también conocidad como *bagging* es una técnica de aprendizaje automático diseñado para mejorar la estabilidad y la precisión de los algoritmos. Su objetivo es reducir la varianza y prevenir el sobreajuste. Aunque es usualmente aplicado a los métodos de árboles de decisión, puede ser usado con cualquier otro tipo de algoritmos. Un tipo de estos algorimos son los *Random forests*.\n",
    "\n",
    "\n",
    "#### Random Forest\n",
    "Es un algoritmo tipo *bagging* que utiliza árboles de decisión. Actualmente es el método de moda tanto en problemas de clasificación como de regresión. Los árboles de decisión se entrenan de manera separada y por tanto se puede paralelizar el algoritmo. Al final, se entrenan diferentes árboles y cada uno de ellos emite su predicción. La clase que más votos recibe es el valor de la predicción. En el caso de la regresión se podría emplear la media de las predicciones de cada uno de los arboles."
   ]
  },
  {
   "cell_type": "code",
   "execution_count": 33,
   "metadata": {
    "collapsed": true
   },
   "outputs": [],
   "source": [
    "from sklearn.naive_bayes import MultinomialNB\n",
    "from sklearn.naive_bayes import BernoulliNB\n",
    "from sklearn.tree import DecisionTreeClassifier\n",
    "from sklearn.ensemble import RandomForestClassifier"
   ]
  },
  {
   "cell_type": "code",
   "execution_count": 34,
   "metadata": {
    "collapsed": false
   },
   "outputs": [
    {
     "name": "stdout",
     "output_type": "stream",
     "text": [
      "Training time: 0.37401 seconds\n"
     ]
    }
   ],
   "source": [
    "classifier = MultinomialNB()\n",
    "targets = data['class'].values\n",
    "start_time = time.time()\n",
    "classifier.fit(counts, targets)\n",
    "training_time = time.time() - start_time\n",
    "print(\"Training time: %.5f seconds\" % training_time)"
   ]
  },
  {
   "cell_type": "code",
   "execution_count": 35,
   "metadata": {
    "collapsed": false
   },
   "outputs": [
    {
     "name": "stdout",
     "output_type": "stream",
     "text": [
      "Prediction time: 0.01080 seconds\n",
      "['spam' 'ham']\n"
     ]
    }
   ],
   "source": [
    "examples = ['Free Viagra call today!', \"I'm going to attend the Linux users group tomorrow.\"]\n",
    "example_counts = count_vectorizer.transform(examples)\n",
    "start_time = time.time()\n",
    "predictions = classifier.predict(example_counts)\n",
    "prediction_time = time.time() - start_time\n",
    "print(\"Prediction time: %.5f seconds\" % prediction_time)\n",
    "print(predictions) # [spam ham]"
   ]
  },
  {
   "cell_type": "markdown",
   "metadata": {},
   "source": [
    "##### Más modelos o estimadores..."
   ]
  },
  {
   "cell_type": "markdown",
   "metadata": {},
   "source": [
    "## Pipelining"
   ]
  },
  {
   "cell_type": "code",
   "execution_count": 44,
   "metadata": {
    "collapsed": true
   },
   "outputs": [],
   "source": [
    "from sklearn.cross_validation import KFold\n",
    "from sklearn.metrics import accuracy_score\n",
    "from sklearn.pipeline import Pipeline\n",
    "from sklearn.cross_validation import train_test_split"
   ]
  },
  {
   "cell_type": "code",
   "execution_count": 12,
   "metadata": {
    "collapsed": false
   },
   "outputs": [
    {
     "name": "stdout",
     "output_type": "stream",
     "text": [
      "Elapsed time: 31.92 seconds\n",
      "['spam' 'ham']\n"
     ]
    }
   ],
   "source": [
    "pipeline = Pipeline([\n",
    "        ('vectorizer', CountVectorizer()),\n",
    "        ('classifier', MultinomialNB())])\n",
    "\n",
    "start_time = time.time()\n",
    "pipeline.fit(data['text'].values, data['class'].values)\n",
    "pipeline_time = time.time() - start_time\n",
    "print(\"Elapsed time: %.2f seconds\" % pipeline_time)\n",
    "print(pipeline.predict(examples)) # [spam ham]"
   ]
  },
  {
   "cell_type": "markdown",
   "metadata": {},
   "source": [
    "### Más datos"
   ]
  },
  {
   "cell_type": "code",
   "execution_count": 167,
   "metadata": {
    "collapsed": false
   },
   "outputs": [
    {
     "name": "stdout",
     "output_type": "stream",
     "text": [
      "Elapsed time: 30.3732 seconds\n",
      "0.934573251475\n"
     ]
    }
   ],
   "source": [
    "X_train, X_test, y_train, y_test = train_test_split(\n",
    "    data['text'].values, data['class'].values, test_size = 0.3, random_state = 42) \n",
    "\n",
    "pipeline = Pipeline([\n",
    "        ('vectorizer', CountVectorizer()),\n",
    "        ('classifier', MultinomialNB())])\n",
    "\n",
    "start_time = time.time()\n",
    "pipeline.fit(X_train, y_train)\n",
    "pipeline_time = time.time() - start_time\n",
    "print(\"Elapsed time: %.4f seconds\" % pipeline_time)\n",
    "predicted = pipeline.predict(X_test)\n",
    "print(accuracy_score(y_test,predicted)) # [spam ham]"
   ]
  },
  {
   "cell_type": "markdown",
   "metadata": {},
   "source": [
    "## Cross-Validating\n",
    "\n",
    "Este método es ampliamente usado pero tiene la desventaja de que no utiliza todo los datos para entrenar el algoritmo."
   ]
  },
  {
   "cell_type": "code",
   "execution_count": 38,
   "metadata": {
    "collapsed": false
   },
   "outputs": [],
   "source": [
    "def cross_validation(k, pipeline):\n",
    "    k_fold = KFold(n=len(data), n_folds = k)\n",
    "    scores = []\n",
    "    confusion = np.array([[0,0], [0, 0]])\n",
    "\n",
    "    for train_indices, test_indices in k_fold:\n",
    "        train_text = data.iloc[train_indices]['text'].values\n",
    "        train_y = data.iloc[train_indices]['class'].values\n",
    "    \n",
    "        test_text = data.iloc[test_indices]['text'].values\n",
    "        test_y = data.iloc[test_indices]['class'].values\n",
    "    \n",
    "        pipeline.fit(train_text, train_y)\n",
    "        predictions = pipeline.predict(test_text)\n",
    "    \n",
    "        score = accuracy_score(test_y, predictions)\n",
    "        scores.append(score)\n",
    "\n",
    "    return scores\n",
    "\n",
    "def pretty_print(scores, cross_validation_time):\n",
    "    print('Total emails classified:', len(data))\n",
    "    print('Score:', sum(scores)/len(scores))\n",
    "    print(\"Cross-Validation time: %4f seconds\" % cross_validation_time)"
   ]
  },
  {
   "cell_type": "code",
   "execution_count": 39,
   "metadata": {
    "collapsed": false
   },
   "outputs": [
    {
     "name": "stdout",
     "output_type": "stream",
     "text": [
      "Total emails classified: 55377\n",
      "Score: 0.931758705286\n",
      "Cross-Validation time: 61.752265 seconds\n"
     ]
    }
   ],
   "source": [
    "from sklearn.pipeline import Pipeline\n",
    "\n",
    "k = 2\n",
    "pipeline = Pipeline([\n",
    "        ('vectorizer', CountVectorizer()),\n",
    "        ('classifier', MultinomialNB())])\n",
    "\n",
    "start_time = time.time()\n",
    "scores = cross_validation(k, pipeline)\n",
    "cross_validation_time = time.time() - start_time\n",
    "pretty_print(scores, cross_validation_time)\n",
    "# Cross-Validation time: 160.940326 seconds"
   ]
  },
  {
   "cell_type": "code",
   "execution_count": 164,
   "metadata": {
    "collapsed": false
   },
   "outputs": [
    {
     "name": "stdout",
     "output_type": "stream",
     "text": [
      "Total emails classified: 55377\n",
      "Score: 0.988605385832\n",
      "Cross-Validation time: 217.723541 seconds\n"
     ]
    }
   ],
   "source": [
    "k = 2\n",
    "pipeline = Pipeline([\n",
    "    ('count_vectorizer',   CountVectorizer(ngram_range=(1,  2))),\n",
    "    ('tfidf_transformer',  TfidfTransformer()),\n",
    "    ('classifier',         MultinomialNB())\n",
    "])\n",
    "\n",
    "start_time = time.time()\n",
    "scores = cross_validation(k, pipeline)\n",
    "cross_validation_time = time.time() - start_time\n",
    "pretty_print(scores, cross_validation_time)"
   ]
  },
  {
   "cell_type": "code",
   "execution_count": 166,
   "metadata": {
    "collapsed": false
   },
   "outputs": [
    {
     "name": "stdout",
     "output_type": "stream",
     "text": [
      "Total emails classified: 55377\n",
      "Score: 0.960795987565\n",
      "Cross-Validation time: 262.477503 seconds\n"
     ]
    }
   ],
   "source": [
    "k = 2\n",
    "pipeline = Pipeline([\n",
    "    ('count_vectorizer', CountVectorizer(ngram_range=(1, 2))),\n",
    "    ('classifier',  BernoulliNB(binarize=0.0))])\n",
    "\n",
    "start_time = time.time()\n",
    "scores = cross_validation(k, pipeline)\n",
    "cross_validation_time = time.time() - start_time\n",
    "pretty_print(scores, cross_validation_time)"
   ]
  },
  {
   "cell_type": "code",
   "execution_count": 42,
   "metadata": {
    "collapsed": false
   },
   "outputs": [
    {
     "name": "stdout",
     "output_type": "stream",
     "text": [
      "Total emails classified: 55377\n",
      "Score: 0.983892221795\n",
      "Cross-Validation time: 456.822214 seconds\n"
     ]
    }
   ],
   "source": [
    "k = 2\n",
    "pipeline = Pipeline([\n",
    "    ('count_vectorizer', CountVectorizer(ngram_range=(1, 2))),\n",
    "    ('classifier', DecisionTreeClassifier())])\n",
    "\n",
    "start_time = time.time()\n",
    "scores = cross_validation(k, pipeline)\n",
    "cross_validation_time = time.time() - start_time\n",
    "pretty_print(scores, cross_validation_time)"
   ]
  },
  {
   "cell_type": "code",
   "execution_count": 43,
   "metadata": {
    "collapsed": false
   },
   "outputs": [
    {
     "name": "stdout",
     "output_type": "stream",
     "text": [
      "Total emails classified: 55377\n",
      "Score: 0.974772906787\n",
      "Cross-Validation time: 278.959522 seconds\n"
     ]
    }
   ],
   "source": [
    "k = 2\n",
    "pipeline = Pipeline([\n",
    "    ('count_vectorizer', CountVectorizer(ngram_range=(1, 2))),\n",
    "    ('classifier', RandomForestClassifier())])\n",
    "\n",
    "start_time = time.time()\n",
    "scores = cross_validation(k, pipeline)\n",
    "cross_validation_time = time.time() - start_time\n",
    "pretty_print(scores, cross_validation_time)"
   ]
  },
  {
   "cell_type": "markdown",
   "metadata": {},
   "source": [
    "## Evaluación\n",
    "\n",
    "#### Métodos numéricos\n",
    "* Accuracy\n",
    "* Expected benefit/cost\n",
    "* Precision\n",
    "* Recall\n",
    "* Area under a performance curve\n",
    "* ...\n",
    "\n",
    "#### Métodos gráficos\n",
    "* ROC Curves\n",
    "* Precision-Recall Curves\n",
    "* DET curves\n",
    "* Regret graphs\n",
    "* Loss difference plots\n",
    "* Skill plots\n",
    "* ..."
   ]
  },
  {
   "cell_type": "markdown",
   "metadata": {},
   "source": [
    "#### TP Rate\n",
    "$$\\text{TP Rate} = \\cfrac{\\text{True Positives}}{\\text{Positives}}$$\n",
    "\n",
    "#### FN Rate\n",
    "$$\\text{FP Rate} = \\cfrac{\\text{False Negatives}}{\\text{Positives}}$$\n",
    "\n",
    "#### FP Rate\n",
    "$$\\text{FP Rate} = \\cfrac{\\text{False Positives}}{\\text{Negatives}}$$\n",
    "\n",
    "#### TN Rate\n",
    "$$\\text{TN Rate} = \\cfrac{\\text{True Negatives}}{\\text{Negatives}}$$\n",
    "\n",
    "#### Accuracy\n",
    "$$\\text{Accuracy} = \\cfrac{\\text{True Positives + True Negatives }}{\\text{Postives + Negatives}}$$\n",
    "\n",
    "#### Precision\n",
    "\n",
    "$$\\text{Precision} = \\cfrac{\\text{True Positives}}{\\text{True Positives / False Positives}}$$\n",
    "\n",
    "#### Recall\n",
    "\n",
    "$$\\text{Recall} = \\cfrac{\\text{True Positives}}{\\text{True Positives / False Negatives}}$$"
   ]
  },
  {
   "cell_type": "code",
   "execution_count": 55,
   "metadata": {
    "collapsed": true
   },
   "outputs": [],
   "source": [
    "X_train, X_test, y_train, y_test = train_test_split(\n",
    "    data['text'].values, data['class'].values, test_size = 0.3, random_state = 42) \n",
    "\n",
    "naive_bayes = Pipeline([\n",
    "        ('vectorizer', CountVectorizer()),\n",
    "        ('classifier', MultinomialNB())])\n",
    "\n",
    "decision_tree = Pipeline([\n",
    "        ('vectorizer', CountVectorizer()),\n",
    "        ('classifier', DecisionTreeClassifier())])\n",
    "\n",
    "random_forests = Pipeline([\n",
    "        ('vectorizer', CountVectorizer()),\n",
    "        ('classifier', RandomForestClassifier())])"
   ]
  },
  {
   "cell_type": "code",
   "execution_count": 56,
   "metadata": {
    "collapsed": false
   },
   "outputs": [
    {
     "name": "stdout",
     "output_type": "stream",
     "text": [
      "Naive Bayes Training time: 28.0896 seconds\n",
      "Decision Tree Training time: 70.1362 seconds\n",
      "Random Forests Training time: 51.2961 seconds\n"
     ]
    }
   ],
   "source": [
    "start_time = time.time()\n",
    "naive_bayes.fit(X_train, y_train)\n",
    "pipeline_time = time.time() - start_time\n",
    "print(\"Naive Bayes Training time: %.4f seconds\" % pipeline_time)\n",
    "start_time = time.time()\n",
    "decision_tree.fit(X_train, y_train)\n",
    "pipeline_time = time.time() - start_time\n",
    "print(\"Decision Tree Training time: %.4f seconds\" % pipeline_time)\n",
    "start_time = time.time()\n",
    "random_forests.fit(X_train, y_train)\n",
    "pipeline_time = time.time() - start_time\n",
    "print(\"Random Forests Training time: %.4f seconds\" % pipeline_time)"
   ]
  },
  {
   "cell_type": "code",
   "execution_count": 60,
   "metadata": {
    "collapsed": false
   },
   "outputs": [
    {
     "name": "stdout",
     "output_type": "stream",
     "text": [
      "             precision    recall  f1-score   support\n",
      "\n",
      "        ham       0.86      0.99      0.92      6561\n",
      "       spam       0.99      0.90      0.94     10053\n",
      "\n",
      "avg / total       0.94      0.94      0.94     16614\n",
      "\n",
      "============================================================\n",
      "             precision    recall  f1-score   support\n",
      "\n",
      "        ham       0.99      0.98      0.98      6561\n",
      "       spam       0.99      0.99      0.99     10053\n",
      "\n",
      "avg / total       0.99      0.99      0.99     16614\n",
      "\n",
      "============================================================\n",
      "             precision    recall  f1-score   support\n",
      "\n",
      "        ham       0.97      0.99      0.98      6561\n",
      "       spam       0.99      0.98      0.99     10053\n",
      "\n",
      "avg / total       0.98      0.98      0.98     16614\n",
      "\n"
     ]
    }
   ],
   "source": [
    "print(classification_report(y_test, naive_bayes.predict(X_test)))\n",
    "print(\"=\"*60)\n",
    "print(classification_report(y_test, decision_tree.predict(X_test)))\n",
    "print(\"=\"*60)\n",
    "print(classification_report(y_test, random_forests.predict(X_test)))"
   ]
  },
  {
   "cell_type": "markdown",
   "metadata": {},
   "source": [
    "### Confusion Matrices"
   ]
  },
  {
   "cell_type": "code",
   "execution_count": 37,
   "metadata": {
    "collapsed": true
   },
   "outputs": [],
   "source": [
    "from sklearn.metrics import confusion_matrix, roc_curve, auc, precision_recall_curve"
   ]
  },
  {
   "cell_type": "code",
   "execution_count": 155,
   "metadata": {
    "collapsed": true
   },
   "outputs": [],
   "source": [
    "def plot_confusion_matrix(cm, title='Confusion matrix', cmap=plt.cm.Blues):\n",
    "    fig = plt.figure(figsize=(5,5))\n",
    "    ax = fig.add_subplot(111)\n",
    "    plt.imshow(cm, interpolation='nearest', cmap=cmap)\n",
    "    plt.title(title)\n",
    "    plt.colorbar()\n",
    "    tick_marks = np.arange(2)\n",
    "    plt.xticks(tick_marks, [\"ham\", \"spam\"], rotation=45)\n",
    "    plt.yticks(tick_marks, [\"ham\", \"spam\"])\n",
    "    plt.tight_layout()\n",
    "    plt.ylabel('True label')\n",
    "    plt.xlabel('Predicted label')\n",
    "    for i,j in ((x,y) for x in range(len(cm[1])) for y in range(len(cm[0]))):\n",
    "            ax.annotate(str(\"{0:d}\".format(cm[j][i])), xy=(i,j), color='black', size = 12)"
   ]
  },
  {
   "cell_type": "code",
   "execution_count": 165,
   "metadata": {
    "collapsed": false
   },
   "outputs": [
    {
     "name": "stdout",
     "output_type": "stream",
     "text": [
      "Naive Bayes Training time: 22.6311 seconds\n",
      "Decision Tree Training time: 58.3268 seconds\n",
      "Random Forests Training time: 47.9221 seconds\n"
     ]
    },
    {
     "data": {
      "image/png": "[encoded data removed]",
      "text/plain": [
       "<matplotlib.figure.Figure at 0x131a72f28>"
      ]
     },
     "metadata": {},
     "output_type": "display_data"
    },
    {
     "data": {
      "image/png": "[encoded data removed]",
      "text/plain": [
       "<matplotlib.figure.Figure at 0x14789ba20>"
      ]
     },
     "metadata": {},
     "output_type": "display_data"
    },
    {
     "data": {
      "image/png": "[encoded data removed]",
      "text/plain": [
       "<matplotlib.figure.Figure at 0x12dd13ac8>"
      ]
     },
     "metadata": {},
     "output_type": "display_data"
    }
   ],
   "source": [
    "plot_confusion_matrix(confusion_matrix(y_test, naive_bayes.predict(X_test)))\n",
    "plot_confusion_matrix(confusion_matrix(y_test, decision_tree.predict(X_test)))\n",
    "plot_confusion_matrix(confusion_matrix(y_test, random_forests.predict(X_test)))"
   ]
  },
  {
   "cell_type": "markdown",
   "metadata": {},
   "source": [
    "### ROC Curve & Area under the curve (AUC)"
   ]
  },
  {
   "cell_type": "code",
   "execution_count": 148,
   "metadata": {
    "collapsed": true
   },
   "outputs": [],
   "source": [
    "def draw_ROC_curves(ROC_curves):\n",
    "    plt.figure(figsize=(8,6))\n",
    "    for rc in ROC_curves:\n",
    "        fpr, tpr, thresholds = rc[1]\n",
    "        roc_auc = auc(fpr, tpr)\n",
    "        plt.plot(fpr, tpr, label='%s (area = %0.5f)' % (rc[0], roc_auc))\n",
    "        plt.plot([0, 1], [0, 1], 'k--')\n",
    "        plt.xlim([-0.1, 1.0])\n",
    "        plt.ylim([0.0, 1.05])\n",
    "        plt.xlabel('False Positive Rate')\n",
    "        plt.ylabel('True Positive Rate (Recall)')\n",
    "        plt.title('Receiver operating characteristic %s' % rc[0])\n",
    "        plt.legend(loc=\"lower right\")"
   ]
  },
  {
   "cell_type": "code",
   "execution_count": 172,
   "metadata": {
    "collapsed": false
   },
   "outputs": [],
   "source": [
    "y_test[y_test == \"ham\"] = 0\n",
    "y_test[y_test == \"spam\"] = 1"
   ]
  },
  {
   "cell_type": "code",
   "execution_count": 157,
   "metadata": {
    "collapsed": false
   },
   "outputs": [
    {
     "data": {
      "image/png": "[encoded data removed]",
      "text/plain": [
       "<matplotlib.figure.Figure at 0x118914160>"
      ]
     },
     "metadata": {},
     "output_type": "display_data"
    }
   ],
   "source": [
    "draw_ROC_curves([(\"Naive Bayes\", roc_curve(y_test, naive_bayes.predict_proba(X_test)[::,0], pos_label = 0)),\n",
    "                (\"Decision Tree\", roc_curve(y_test, decision_tree.predict_proba(X_test)[::,0], pos_label = 0)),\n",
    "                (\"Random Forests\", roc_curve(y_test, random_forests.predict_proba(X_test)[::,0], pos_label = 0))])"
   ]
  },
  {
   "cell_type": "markdown",
   "metadata": {},
   "source": [
    "### Precision-Recall Curve"
   ]
  },
  {
   "cell_type": "code",
   "execution_count": 174,
   "metadata": {
    "collapsed": false
   },
   "outputs": [],
   "source": [
    "def draw_precisionRecall_curves(precisionRecall_curves):\n",
    "    plt.figure(figsize=(8,6))\n",
    "    for rc in precisionRecall_curves:\n",
    "        precision, recall, thresholds = rc[1]\n",
    "        plt.plot(recall, precision, label='%s'% rc[0])\n",
    "        plt.xlim([0.0, 1.01])\n",
    "        plt.plot([1, 0], [1, 0], 'k--')\n",
    "        plt.ylim([0.0, 1.01])\n",
    "        plt.xlabel('Recall')\n",
    "        plt.ylabel('Precision')\n",
    "        plt.title('Precision Recall Curve' )\n",
    "        plt.legend(loc=\"lower left\")"
   ]
  },
  {
   "cell_type": "code",
   "execution_count": 175,
   "metadata": {
    "collapsed": false
   },
   "outputs": [
    {
     "data": {
      "image/png": "[encoded data removed]",
      "text/plain": [
       "<matplotlib.figure.Figure at 0x117942cf8>"
      ]
     },
     "metadata": {},
     "output_type": "display_data"
    }
   ],
   "source": [
    "draw_precisionRecall_curves([(\"Naive Bayes\", precision_recall_curve(y_test, naive_bayes.predict_proba(X_test)[::,0], pos_label = 0)),\n",
    "                (\"Decision Tree\", precision_recall_curve(y_test, decision_tree.predict_proba(X_test)[::,0], pos_label = 0)),\n",
    "                (\"Random Forests\", precision_recall_curve(y_test, random_forests.predict_proba(X_test)[::,0], pos_label = 0))])"
   ]
  },
  {
   "cell_type": "markdown",
   "metadata": {
    "collapsed": true
   },
   "source": [
    "# De propina..."
   ]
  },
  {
   "cell_type": "code",
   "execution_count": 48,
   "metadata": {
    "collapsed": true
   },
   "outputs": [],
   "source": [
    "from sklearn.feature_selection import SelectKBest\n",
    "from sklearn.feature_selection import chi2\n",
    "from sklearn.cross_validation import StratifiedKFold\n",
    "from sklearn.grid_search import GridSearchCV"
   ]
  },
  {
   "cell_type": "code",
   "execution_count": 53,
   "metadata": {
    "collapsed": false
   },
   "outputs": [
    {
     "data": {
      "text/plain": [
       "Pipeline(steps=[('vect', CountVectorizer(analyzer='word', binary=False, decode_error='strict',\n",
       "        dtype=<class 'numpy.int64'>, encoding='utf-8', input='content',\n",
       "        lowercase=True, max_df=1.0, max_features=None, min_df=1,\n",
       "        ngram_range=(1, 1), preprocessor=None, stop_words=None,\n",
       "        strip...unction chi2 at 0x109292598>)), ('clf', MultinomialNB(alpha=1.0, class_prior=None, fit_prior=True))])"
      ]
     },
     "execution_count": 53,
     "metadata": {},
     "output_type": "execute_result"
    }
   ],
   "source": [
    "pipe_nb = Pipeline([('vect', CountVectorizer()),\n",
    "                    ('tfidf', TfidfTransformer()),\n",
    "                    ('select', SelectKBest(chi2)),\n",
    "                    ('clf', MultinomialNB())])\n",
    "\n",
    "param_grid = [{ 'vect__ngram_range': [(1, 1), (1, 2)],\n",
    "                'tfidf__use_idf': (True, False),\n",
    "                'select__k': ['all', 20]\n",
    "              }]\n",
    "\n",
    "\n",
    "cross_validation = StratifiedKFold(y_train, n_folds=2)\n",
    "\n",
    "gs_nb = GridSearchCV(estimator=pipe_nb,\n",
    "                 param_grid=param_grid,\n",
    "                 scoring='accuracy',\n",
    "                 cv=cross_validation,\n",
    "                 n_jobs=1)\n",
    "\n",
    "gs_nb.fit(X_train, y_train)\n",
    "nb = gs_nb.best_estimator_\n",
    "nb"
   ]
  },
  {
   "cell_type": "markdown",
   "metadata": {},
   "source": [
    "## Entorno utilizado"
   ]
  },
  {
   "cell_type": "code",
   "execution_count": 21,
   "metadata": {
    "collapsed": false
   },
   "outputs": [
    {
     "name": "stdout",
     "output_type": "stream",
     "text": [
      "Installed watermark.py. To use it, type:\n",
      "  %load_ext watermark\n"
     ]
    },
    {
     "name": "stderr",
     "output_type": "stream",
     "text": [
      "/Users/b3j90/anaconda/envs/kampal/lib/python3.5/site-packages/IPython/core/magics/extension.py:47: UserWarning: %install_ext` is deprecated, please distribute your extension(s)as a python packages.\n",
      "  \"as a python packages.\", UserWarning)\n"
     ]
    }
   ],
   "source": [
    "%install_ext https://raw.githubusercontent.com/rasbt/watermark/master/watermark.py"
   ]
  },
  {
   "cell_type": "code",
   "execution_count": 20,
   "metadata": {
    "collapsed": false
   },
   "outputs": [
    {
     "name": "stdout",
     "output_type": "stream",
     "text": [
      "The watermark extension is already loaded. To reload it, use:\n",
      "  %reload_ext watermark\n"
     ]
    }
   ],
   "source": [
    "%load_ext watermark"
   ]
  },
  {
   "cell_type": "code",
   "execution_count": 19,
   "metadata": {
    "collapsed": false
   },
   "outputs": [
    {
     "name": "stdout",
     "output_type": "stream",
     "text": [
      "Borja Espejo Sun Dec 20 2015 \n",
      "\n",
      "CPython 3.5.1\n",
      "IPython 4.0.1\n",
      "\n",
      "numpy 1.10.2\n",
      "pandas 0.17.1\n",
      "scikit-learn 0.17\n",
      "matplotlib 1.5.0\n",
      "Seaborn 0.6.0\n",
      "\n",
      "compiler   : GCC 4.2.1 (Apple Inc. build 5577)\n",
      "system     : Darwin\n",
      "release    : 12.5.0\n",
      "machine    : x86_64\n",
      "processor  : i386\n",
      "CPU cores  : 4\n",
      "interpreter: 64bit\n"
     ]
    }
   ],
   "source": [
    "%watermark -a 'Borja A. Espejo' -nmv --packages numpy,pandas,scikit-learn,matplotlib,Seaborn"
   ]
  },
  {
   "cell_type": "code",
   "execution_count": null,
   "metadata": {
    "collapsed": true
   },
   "outputs": [],
   "source": []
  }
 ],
 "metadata": {
  "kernelspec": {
   "display_name": "Python 3",
   "language": "python",
   "name": "python3"
  },
  "language_info": {
   "codemirror_mode": {
    "name": "ipython",
    "version": 3
   },
   "file_extension": ".py",
   "mimetype": "text/x-python",
   "name": "python",
   "nbconvert_exporter": "python",
   "pygments_lexer": "ipython3",
   "version": "3.5.1"
  }
 },
 "nbformat": 4,
 "nbformat_minor": 0
}
